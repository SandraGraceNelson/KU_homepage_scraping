{
 "cells": [
  {
   "cell_type": "code",
   "execution_count": 1,
   "metadata": {},
   "outputs": [],
   "source": [
    "#Importing library\n",
    "from bs4 import BeautifulSoup\n",
    "import requests"
   ]
  },
  {
   "cell_type": "code",
   "execution_count": 2,
   "metadata": {},
   "outputs": [],
   "source": [
    "#Difining url \n",
    "#URL of kerala universtity website's home page\n",
    "url = 'https://www.keralauniversity.ac.in/home'"
   ]
  },
  {
   "cell_type": "code",
   "execution_count": 3,
   "metadata": {},
   "outputs": [],
   "source": [
    "#Getting url\n",
    "r = requests.get(url)"
   ]
  },
  {
   "cell_type": "code",
   "execution_count": 4,
   "metadata": {},
   "outputs": [],
   "source": [
    "#To fetch content\n",
    "html_doc = r.text\n",
    "soup = BeautifulSoup(html_doc)\n",
    "#Viewing content\n",
    "# soup"
   ]
  },
  {
   "cell_type": "code",
   "execution_count": 5,
   "metadata": {},
   "outputs": [
    {
     "name": "stdout",
     "output_type": "stream",
     "text": [
      "<head>\n",
      "<meta content=\"text/html; charset=utf-8\" http-equiv=\"content-type\"/>\n",
      "<!-- <meta name=\"viewport\" content=\"width=device-width, initial-scale=1.0, maximum-scale=1.0, user-scalable=no\" /> -->\n",
      "<!--[if lt IE 9]>\r\n",
      "<script src=\"https://html5shim.googlecode.com/svn/trunk/html5.js\"></script>\r\n",
      "<![endif]-->\n",
      "<title>University of Kerala</title>\n",
      "</head>\n"
     ]
    }
   ],
   "source": [
    "#Viewing head of the content\n",
    "print(soup.head)"
   ]
  },
  {
   "cell_type": "code",
   "execution_count": 6,
   "metadata": {},
   "outputs": [
    {
     "name": "stdout",
     "output_type": "stream",
     "text": [
      "<title>University of Kerala</title>\n"
     ]
    }
   ],
   "source": [
    "#Viewing titles\n",
    "print(soup.title)"
   ]
  },
  {
   "cell_type": "code",
   "execution_count": 7,
   "metadata": {},
   "outputs": [],
   "source": [
    "#Viewing only the text\n",
    "# print(soup.get_text())"
   ]
  },
  {
   "cell_type": "code",
   "execution_count": 8,
   "metadata": {},
   "outputs": [],
   "source": [
    "#Retrieving all the href tags\n",
    "links = []\n",
    "for link in soup.find_all('a'):\n",
    "    hrf = link.get('href')\n",
    "    links.append(hrf)"
   ]
  },
  {
   "cell_type": "code",
   "execution_count": 9,
   "metadata": {},
   "outputs": [],
   "source": [
    "#Since inhouse links were there without the parent link, we should add them together to get the actual link that works\n",
    "link_final = []\n",
    "for i in links:\n",
    "    if i[:4] == \"http\":\n",
    "        link_final.append(i)\n",
    "    else:\n",
    "        new = \"https://www.keralauniversity.ac.in/\"+str(i)\n",
    "        link_final.append(new)"
   ]
  },
  {
   "cell_type": "code",
   "execution_count": 10,
   "metadata": {},
   "outputs": [],
   "source": [
    "#Defining inhouse links and outgoing links\n",
    "inlinks = []\n",
    "outlinks = []\n",
    "for j in link_final:\n",
    "    if j[:35] == \"https://www.keralauniversity.ac.in/\":\n",
    "        inlinks.append(j)\n",
    "    else:\n",
    "        outlinks.append(j)"
   ]
  },
  {
   "cell_type": "code",
   "execution_count": 11,
   "metadata": {},
   "outputs": [],
   "source": [
    "#Viewing inhouse links only\n",
    "# inlinks"
   ]
  },
  {
   "cell_type": "code",
   "execution_count": 12,
   "metadata": {},
   "outputs": [],
   "source": [
    "#Viewing outgoing links only\n",
    "# outlinks"
   ]
  },
  {
   "cell_type": "code",
   "execution_count": null,
   "metadata": {},
   "outputs": [],
   "source": []
  }
 ],
 "metadata": {
  "kernelspec": {
   "display_name": "Python 3",
   "language": "python",
   "name": "python3"
  },
  "language_info": {
   "codemirror_mode": {
    "name": "ipython",
    "version": 3
   },
   "file_extension": ".py",
   "mimetype": "text/x-python",
   "name": "python",
   "nbconvert_exporter": "python",
   "pygments_lexer": "ipython3",
   "version": "3.8.8"
  }
 },
 "nbformat": 4,
 "nbformat_minor": 4
}
