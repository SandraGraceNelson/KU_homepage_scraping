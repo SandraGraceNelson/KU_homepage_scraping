{
 "cells": [
  {
   "cell_type": "code",
   "execution_count": null,
   "metadata": {},
   "outputs": [],
   "source": [
    "#Importing library\n",
    "from bs4 import BeautifulSoup\n",
    "import requests"
   ]
  },
  {
   "cell_type": "code",
   "execution_count": null,
   "metadata": {},
   "outputs": [],
   "source": [
    "#Difining url \n",
    "#URL of kerala universtity website's home page\n",
    "url = 'https://www.keralauniversity.ac.in/home'"
   ]
  },
  {
   "cell_type": "code",
   "execution_count": null,
   "metadata": {},
   "outputs": [],
   "source": [
    "#Getting url\n",
    "r = requests.get(url)"
   ]
  },
  {
   "cell_type": "code",
   "execution_count": null,
   "metadata": {},
   "outputs": [],
   "source": [
    "#To fetch content\n",
    "html_doc = r.text\n",
    "soup = BeautifulSoup(html_doc)\n",
    "# View and print the Kerala university home page content in a proper format\n",
    "print(soup.prettify())"
   ]
  },
  {
   "cell_type": "code",
   "execution_count": null,
   "metadata": {},
   "outputs": [],
   "source": [
    "#Viewing head of the content\n",
    "print(soup.head)"
   ]
  },
  {
   "cell_type": "code",
   "execution_count": null,
   "metadata": {},
   "outputs": [],
   "source": [
    "#Viewing titles\n",
    "print(soup.title)"
   ]
  },
  {
   "cell_type": "code",
   "execution_count": null,
   "metadata": {},
   "outputs": [],
   "source": [
    "#Viewing only the text\n",
    "print(soup.get_text())"
   ]
  },
  {
   "cell_type": "code",
   "execution_count": null,
   "metadata": {},
   "outputs": [],
   "source": [
    "#Retrieving all the href tags\n",
    "links = []\n",
    "for link in soup.find_all('a'):\n",
    "    hrf = link.get('href')\n",
    "    links.append(hrf)"
   ]
  },
  {
   "cell_type": "code",
   "execution_count": null,
   "metadata": {},
   "outputs": [],
   "source": [
    "#Since inhouse links were there without the parent link, we should add them together to get the actual link that works\n",
    "link_final = []\n",
    "for i in links:\n",
    "    if i[:4] == \"http\":\n",
    "        link_final.append(i)\n",
    "    else:\n",
    "        new = \"https://www.keralauniversity.ac.in/\"+str(i)\n",
    "        link_final.append(new)"
   ]
  },
  {
   "cell_type": "code",
   "execution_count": null,
   "metadata": {},
   "outputs": [],
   "source": [
    "#Defining inhouse links and outgoing links\n",
    "inlinks = []\n",
    "outlinks = []\n",
    "for j in link_final:\n",
    "    if j[:35] == \"https://www.keralauniversity.ac.in/\":\n",
    "        inlinks.append(j)\n",
    "    else:\n",
    "        outlinks.append(j)"
   ]
  },
  {
   "cell_type": "code",
   "execution_count": null,
   "metadata": {},
   "outputs": [],
   "source": [
    "#Viewing inhouse links only\n",
    "inlinks"
   ]
  },
  {
   "cell_type": "code",
   "execution_count": null,
   "metadata": {},
   "outputs": [],
   "source": [
    "#Viewing outgoing links only\n",
    "outlinks"
   ]
  },
  {
   "cell_type": "code",
   "execution_count": null,
   "metadata": {},
   "outputs": [],
   "source": []
  }
 ],
 "metadata": {
  "kernelspec": {
   "display_name": "Python 3",
   "language": "python",
   "name": "python3"
  },
  "language_info": {
   "codemirror_mode": {
    "name": "ipython",
    "version": 3
   },
   "file_extension": ".py",
   "mimetype": "text/x-python",
   "name": "python",
   "nbconvert_exporter": "python",
   "pygments_lexer": "ipython3",
   "version": "3.8.8"
  }
 },
 "nbformat": 4,
 "nbformat_minor": 4
}
