{
 "cells": [
  {
   "cell_type": "code",
   "execution_count": null,
   "id": "2c1d276f",
   "metadata": {},
   "outputs": [],
   "source": [
    "from selenium import webdriver\n",
    "from bs4 import BeautifulSoup"
   ]
  },
  {
   "cell_type": "code",
   "execution_count": null,
   "id": "7f8f27f2",
   "metadata": {},
   "outputs": [],
   "source": [
    "url = \"https://www.keralauniversity.ac.in/home\"\n",
    "driver = webdriver.Chrome() #replace with appropriate driver for your browser\n",
    "driver.get(url)\n",
    "soup = BeautifulSoup(driver.page_source, 'html.parser')"
   ]
  },
  {
   "cell_type": "code",
   "execution_count": null,
   "id": "184ad85a",
   "metadata": {},
   "outputs": [],
   "source": [
    "# View and print the Kerala university home page content in a proper format\n",
    "print(soup.prettify())"
   ]
  },
  {
   "cell_type": "code",
   "execution_count": null,
   "id": "b26edd07",
   "metadata": {},
   "outputs": [],
   "source": [
    "# View the head and title\n",
    "print(soup.head)\n",
    "print(soup.title)"
   ]
  },
  {
   "cell_type": "code",
   "execution_count": null,
   "id": "161ae0f7",
   "metadata": {},
   "outputs": [],
   "source": [
    "# Print all the href links present in the university web page\n",
    "for link in soup.find_all('a'):\n",
    "    print(link.get('href'))"
   ]
  },
  {
   "cell_type": "code",
   "execution_count": null,
   "id": "269f40df",
   "metadata": {},
   "outputs": [],
   "source": [
    "# Print all inhouse links and outgoing links separately\n",
    "inhouse_links = []\n",
    "outgoing_links = []\n",
    "\n",
    "for link in soup.find_all('a'):\n",
    "    href = link.get('href')\n",
    "    if href:\n",
    "        if 'keralauniversity.ac.in' in href:\n",
    "            inhouse_links.append(href)\n",
    "        else:\n",
    "            outgoing_links.append(href)\n",
    "\n",
    "print(\"Inhouse Links: \")\n",
    "print(inhouse_links)\n",
    "print(\"Outgoing Links: \")\n",
    "print(outgoing_links)"
   ]
  },
  {
   "cell_type": "code",
   "execution_count": null,
   "id": "7d42e9ed",
   "metadata": {},
   "outputs": [],
   "source": []
  }
 ],
 "metadata": {
  "kernelspec": {
   "display_name": "Python 3",
   "language": "python",
   "name": "python3"
  },
  "language_info": {
   "codemirror_mode": {
    "name": "ipython",
    "version": 3
   },
   "file_extension": ".py",
   "mimetype": "text/x-python",
   "name": "python",
   "nbconvert_exporter": "python",
   "pygments_lexer": "ipython3",
   "version": "3.8.8"
  }
 },
 "nbformat": 4,
 "nbformat_minor": 5
}
